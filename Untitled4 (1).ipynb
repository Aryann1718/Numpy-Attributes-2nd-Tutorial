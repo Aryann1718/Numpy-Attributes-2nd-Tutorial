{
 "cells": [
  {
   "cell_type": "code",
   "execution_count": 1,
   "id": "49d914c4-2a6a-42cd-912c-62bae81724ac",
   "metadata": {},
   "outputs": [
    {
     "name": "stdout",
     "output_type": "stream",
     "text": [
      "43\n"
     ]
    }
   ],
   "source": [
    "from numpy import random\n",
    "x = random.randint(100)\n",
    "print(x)"
   ]
  },
  {
   "cell_type": "code",
   "execution_count": 3,
   "id": "cfc3eb65-6c74-4070-8e9c-e4ffd6795d23",
   "metadata": {},
   "outputs": [
    {
     "name": "stdout",
     "output_type": "stream",
     "text": [
      "[0.18839865 0.42868057 0.04584141 0.40026308 0.86794443 0.85451602\n",
      " 0.52139048 0.66219973 0.70399754 0.91933419 0.68209507 0.46688236\n",
      " 0.21481232 0.80210927 0.3349886  0.16432262 0.9986537  0.53035003\n",
      " 0.78154515 0.00235904 0.84205628 0.61571514 0.67226919 0.97375556\n",
      " 0.7933724  0.52690152 0.89195994 0.26905493 0.02513382 0.36892759\n",
      " 0.1889248  0.08454878 0.15022227 0.96098545 0.66376934 0.79358524\n",
      " 0.3587161  0.45617309 0.63200984 0.62048945 0.10337115 0.81686011\n",
      " 0.87799088 0.90134157 0.05832706 0.47591254 0.47522885 0.59897322\n",
      " 0.45033942 0.57651936 0.38772723 0.89805078 0.09171176 0.11112488\n",
      " 0.8917981  0.04749224 0.04343454 0.56102639 0.34883735 0.63097746\n",
      " 0.48659303 0.24348946 0.6470007  0.8782867  0.60130448 0.98736575\n",
      " 0.41382883 0.67249309 0.59640617 0.28306981 0.84903555 0.62996927\n",
      " 0.49318431 0.37037244 0.14860167 0.26240397 0.37527563 0.44676796\n",
      " 0.97730711 0.70175258 0.76973161 0.09375982 0.6951138  0.48323139\n",
      " 0.01125406 0.93454654 0.00848376 0.5933438  0.76828358 0.3288212\n",
      " 0.96573018 0.96146586 0.83593172 0.80102403 0.28158076 0.6719318\n",
      " 0.74509922 0.77088593 0.56605995 0.69549872]\n"
     ]
    }
   ],
   "source": [
    "from numpy import random\n",
    "x = random.rand(100)\n",
    "print(x)\n"
   ]
  },
  {
   "cell_type": "code",
   "execution_count": 5,
   "id": "f5f8d84c-2925-4bbb-8e4f-2c06155d34c9",
   "metadata": {},
   "outputs": [
    {
     "name": "stdout",
     "output_type": "stream",
     "text": [
      "[3 2 1 3 1 2 3 2 3 2]\n"
     ]
    }
   ],
   "source": [
    "from numpy import random\n",
    "\n",
    "x = random.choice([1, 2, 3, 4], p=[0.1, 0.3, 0.6, 0.0],\n",
    "size=(10))\n",
    "\n",
    "print(x)"
   ]
  },
  {
   "cell_type": "code",
   "execution_count": 7,
   "id": "297fdd18-5b18-4208-bf89-87bf95300888",
   "metadata": {},
   "outputs": [
    {
     "name": "stdout",
     "output_type": "stream",
     "text": [
      "[[3 3 3 2 3]\n",
      " [3 3 3 2 3]]\n"
     ]
    }
   ],
   "source": [
    "from numpy import random\n",
    "x = random.choice([1, 2, 3, 4], p=[0.1, 0.3, 0.6, 0.0],\n",
    "size=(2, 5))\n",
    "print(x)\n",
    "#output tally with probability "
   ]
  },
  {
   "cell_type": "code",
   "execution_count": 9,
   "id": "b6096346-e2c4-411d-afff-82e5b7c2f749",
   "metadata": {},
   "outputs": [
    {
     "name": "stdout",
     "output_type": "stream",
     "text": [
      "[[2 2 2 3 3]\n",
      " [2 3 3 2 1]\n",
      " [3 3 3 2 3]]\n"
     ]
    }
   ],
   "source": [
    "from numpy import random\n",
    "x = random.choice([1, 2, 3, 4], p=[0.1, 0.3, 0.6, 0.0],\n",
    "size=(3, 5))\n",
    "print(x)\n",
    "#output does not tally probability"
   ]
  },
  {
   "cell_type": "code",
   "execution_count": null,
   "id": "7f9abec6-6b83-4353-bc6c-6aca763c7e08",
   "metadata": {},
   "outputs": [],
   "source": []
  }
 ],
 "metadata": {
  "kernelspec": {
   "display_name": "Python 3 (ipykernel)",
   "language": "python",
   "name": "python3"
  },
  "language_info": {
   "codemirror_mode": {
    "name": "ipython",
    "version": 3
   },
   "file_extension": ".py",
   "mimetype": "text/x-python",
   "name": "python",
   "nbconvert_exporter": "python",
   "pygments_lexer": "ipython3",
   "version": "3.12.4"
  }
 },
 "nbformat": 4,
 "nbformat_minor": 5
}
